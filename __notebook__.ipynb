{
 "cells": [
  {
   "cell_type": "markdown",
   "id": "e02ab9a1",
   "metadata": {
    "papermill": {
     "duration": 0.007292,
     "end_time": "2024-03-13T17:08:44.712668",
     "exception": false,
     "start_time": "2024-03-13T17:08:44.705376",
     "status": "completed"
    },
    "tags": []
   },
   "source": [
    "# Super Mario 64 Speedruns - Data Collection\n",
    "\n",
    "This notebook catalogs the methodology used to obtain data for Super Mario 64 speedrun data from [speedrun.com](https://www.speedrun.com/sm64), and automatically update the corresponding [Kaggle dataset](https://www.kaggle.com/datasets/mcpenguin/super-mario-64-speedruns).\n",
    "\n",
    "Note that this notebook is easily configurable to obtain speedrun data for other games as well.\n",
    "\n",
    "## References\n",
    "\n",
    "I used [this notebook](https://www.kaggle.com/code/nnjjpp/updating-a-dataset-with-a-notebook?scriptVersionId=134546596) as a reference on how to update a dataset with a notebook.\n",
    "\n",
    "## Some of my other work\n",
    "\n",
    "### Notebooks\n",
    "\n",
    "- [Butterfly Image Classification](https://www.kaggle.com/code/mcpenguin/butterfly-classification-efficientnet-87)\n",
    "- [Palmer Penguin EDA](https://www.kaggle.com/code/mcpenguin/palmer-archipelago-antarctica-penguin-eda)\n",
    "- [Smoking and Drinking EDA + Classification](https://www.kaggle.com/code/mcpenguin/smoking-drinking-prediction-tfdf-71)\n",
    "- [World Happiness Data Cleaning + EDA](https://www.kaggle.com/code/mcpenguin/world-happiness-data-cleaning-eda)\n",
    "- [Precious Metals Stocks: EDA + Forecasting](https://www.kaggle.com/code/mcpenguin/precious-metals-stocks-eda-and-prediction)\n",
    "- [Red Wine Quality EDA + Prediction](https://www.kaggle.com/code/mcpenguin/red-wine-quality-prediction)\n",
    "- [Gaia Stellar Classification](https://www.kaggle.com/code/mcpenguin/gaia-stellar-classification-lightgbm-91-acc)\n",
    "\n",
    "### Datasets\n",
    "\n",
    "- [The Complete Rollercoasters Dataset](https://www.kaggle.com/datasets/mcpenguin/rollercoasters)\n",
    "- [Malaysian COVID-19 Data](https://www.kaggle.com/datasets/mcpenguin/malaysia-covid19)"
   ]
  },
  {
   "cell_type": "markdown",
   "id": "b5bd26ab",
   "metadata": {
    "papermill": {
     "duration": 0.006458,
     "end_time": "2024-03-13T17:08:44.726169",
     "exception": false,
     "start_time": "2024-03-13T17:08:44.719711",
     "status": "completed"
    },
    "tags": []
   },
   "source": [
    "# Import Libraries\n",
    "\n",
    "We will be using the `srcomapi` Python library, which is a library for the Speedrun.com API."
   ]
  },
  {
   "cell_type": "code",
   "execution_count": 1,
   "id": "9ad66074",
   "metadata": {
    "execution": {
     "iopub.execute_input": "2024-03-13T17:08:44.741271Z",
     "iopub.status.busy": "2024-03-13T17:08:44.740899Z",
     "iopub.status.idle": "2024-03-13T17:08:56.269355Z",
     "shell.execute_reply": "2024-03-13T17:08:56.268194Z"
    },
    "papermill": {
     "duration": 11.539718,
     "end_time": "2024-03-13T17:08:56.272701",
     "exception": false,
     "start_time": "2024-03-13T17:08:44.732983",
     "status": "completed"
    },
    "tags": []
   },
   "outputs": [
    {
     "name": "stdout",
     "output_type": "stream",
     "text": [
      "Collecting srcomapi\r\n"
     ]
    },
    {
     "name": "stdout",
     "output_type": "stream",
     "text": [
      "  Downloading srcomapi-0.3.3-py3-none-any.whl (6.7 kB)\r\n",
      "Requirement already satisfied: requests in /opt/conda/lib/python3.10/site-packages (from srcomapi) (2.31.0)\r\n",
      "Requirement already satisfied: charset-normalizer<4,>=2 in /opt/conda/lib/python3.10/site-packages (from requests->srcomapi) (3.1.0)\r\n",
      "Requirement already satisfied: idna<4,>=2.5 in /opt/conda/lib/python3.10/site-packages (from requests->srcomapi) (3.4)\r\n",
      "Requirement already satisfied: urllib3<3,>=1.21.1 in /opt/conda/lib/python3.10/site-packages (from requests->srcomapi) (1.26.15)\r\n",
      "Requirement already satisfied: certifi>=2017.4.17 in /opt/conda/lib/python3.10/site-packages (from requests->srcomapi) (2023.5.7)\r\n"
     ]
    },
    {
     "name": "stdout",
     "output_type": "stream",
     "text": [
      "Installing collected packages: srcomapi\r\n"
     ]
    },
    {
     "name": "stdout",
     "output_type": "stream",
     "text": [
      "Successfully installed srcomapi-0.3.3\r\n"
     ]
    }
   ],
   "source": [
    "!pip install srcomapi"
   ]
  },
  {
   "cell_type": "code",
   "execution_count": 2,
   "id": "7dc7c527",
   "metadata": {
    "_cell_guid": "b1076dfc-b9ad-4769-8c92-a6c4dae69d19",
    "_uuid": "8f2839f25d086af736a60e9eeb907d3b93b6e0e5",
    "execution": {
     "iopub.execute_input": "2024-03-13T17:08:56.290761Z",
     "iopub.status.busy": "2024-03-13T17:08:56.290290Z",
     "iopub.status.idle": "2024-03-13T17:08:56.422540Z",
     "shell.execute_reply": "2024-03-13T17:08:56.421769Z"
    },
    "papermill": {
     "duration": 0.143771,
     "end_time": "2024-03-13T17:08:56.424404",
     "exception": false,
     "start_time": "2024-03-13T17:08:56.280633",
     "status": "completed"
    },
    "tags": []
   },
   "outputs": [
    {
     "name": "stderr",
     "output_type": "stream",
     "text": [
      "/tmp/ipykernel_20/197979790.py:12: TqdmExperimentalWarning: Using `tqdm.autonotebook.tqdm` in notebook mode. Use `tqdm.tqdm` instead to force console mode (e.g. in jupyter console)\n",
      "  from tqdm.autonotebook import tqdm\n"
     ]
    }
   ],
   "source": [
    "from kaggle_secrets import UserSecretsClient\n",
    "\n",
    "import numpy as np # linear algebra\n",
    "import pandas as pd # data processing, CSV file I/O (e.g. pd.read_csv)\n",
    "import os\n",
    "import requests\n",
    "import json\n",
    "\n",
    "import srcomapi\n",
    "import srcomapi.datatypes as srdatatypes\n",
    "\n",
    "from tqdm.autonotebook import tqdm"
   ]
  },
  {
   "cell_type": "markdown",
   "id": "18fa21b1",
   "metadata": {
    "papermill": {
     "duration": 0.006775,
     "end_time": "2024-03-13T17:08:56.440032",
     "exception": false,
     "start_time": "2024-03-13T17:08:56.433257",
     "status": "completed"
    },
    "tags": []
   },
   "source": [
    "# Process Kaggle API Key\n",
    "\n",
    "To change/add user secrets, in the notebook editor go to `Add-ons -> Secrets`."
   ]
  },
  {
   "cell_type": "code",
   "execution_count": 3,
   "id": "814102b7",
   "metadata": {
    "execution": {
     "iopub.execute_input": "2024-03-13T17:08:56.457133Z",
     "iopub.status.busy": "2024-03-13T17:08:56.456548Z",
     "iopub.status.idle": "2024-03-13T17:08:56.894538Z",
     "shell.execute_reply": "2024-03-13T17:08:56.893020Z"
    },
    "papermill": {
     "duration": 0.449429,
     "end_time": "2024-03-13T17:08:56.896756",
     "exception": false,
     "start_time": "2024-03-13T17:08:56.447327",
     "status": "completed"
    },
    "tags": []
   },
   "outputs": [],
   "source": [
    "if os.path.exists('/root/.kaggle/'):\n",
    "    pass\n",
    "else:\n",
    "    os.mkdir('/root/.kaggle/')\n",
    "kaggle_API_key = UserSecretsClient().get_secret(\"KAGGLE_API_KEY\")\n",
    "\n",
    "with open('/root/.kaggle/kaggle.json', 'w') as fid:\n",
    "    fid.writelines(f'{{\"username\":\"mcpenguin\",\"key\":\"{kaggle_API_key}\"}}')\n",
    "\n",
    "!chmod 600 /root/.kaggle/kaggle.json"
   ]
  },
  {
   "cell_type": "markdown",
   "id": "5911f24a",
   "metadata": {
    "papermill": {
     "duration": 0.006985,
     "end_time": "2024-03-13T17:08:56.911069",
     "exception": false,
     "start_time": "2024-03-13T17:08:56.904084",
     "status": "completed"
    },
    "tags": []
   },
   "source": [
    "# Obtain Data"
   ]
  },
  {
   "cell_type": "markdown",
   "id": "287d9c46",
   "metadata": {
    "papermill": {
     "duration": 0.007059,
     "end_time": "2024-03-13T17:08:56.925640",
     "exception": false,
     "start_time": "2024-03-13T17:08:56.918581",
     "status": "completed"
    },
    "tags": []
   },
   "source": [
    "## Initialize Speedrun.com API Library\n",
    "\n",
    "We first initialize the Speedrun.com API:"
   ]
  },
  {
   "cell_type": "code",
   "execution_count": 4,
   "id": "646fd973",
   "metadata": {
    "execution": {
     "iopub.execute_input": "2024-03-13T17:08:56.942955Z",
     "iopub.status.busy": "2024-03-13T17:08:56.942506Z",
     "iopub.status.idle": "2024-03-13T17:08:56.947832Z",
     "shell.execute_reply": "2024-03-13T17:08:56.946781Z"
    },
    "papermill": {
     "duration": 0.016738,
     "end_time": "2024-03-13T17:08:56.949695",
     "exception": false,
     "start_time": "2024-03-13T17:08:56.932957",
     "status": "completed"
    },
    "tags": []
   },
   "outputs": [],
   "source": [
    "SPEEDRUN_API_LINK = \"https://www.speedrun.com/api/v1\"\n",
    "\n",
    "api = srcomapi.SpeedrunCom();\n",
    "# api.debug = 1"
   ]
  },
  {
   "cell_type": "markdown",
   "id": "aa0294fd",
   "metadata": {
    "papermill": {
     "duration": 0.006948,
     "end_time": "2024-03-13T17:08:56.964057",
     "exception": false,
     "start_time": "2024-03-13T17:08:56.957109",
     "status": "completed"
    },
    "tags": []
   },
   "source": [
    "## Get Game Data\n",
    "\n",
    "We can then get the data for `Minecraft: Java Edition`. This notebook is configured in a way so that it should be easily adaptable to get data for other games from Speedrun.com as well."
   ]
  },
  {
   "cell_type": "code",
   "execution_count": 5,
   "id": "38303192",
   "metadata": {
    "execution": {
     "iopub.execute_input": "2024-03-13T17:08:56.980446Z",
     "iopub.status.busy": "2024-03-13T17:08:56.980093Z",
     "iopub.status.idle": "2024-03-13T17:08:58.161936Z",
     "shell.execute_reply": "2024-03-13T17:08:58.160221Z"
    },
    "papermill": {
     "duration": 1.193657,
     "end_time": "2024-03-13T17:08:58.165166",
     "exception": false,
     "start_time": "2024-03-13T17:08:56.971509",
     "status": "completed"
    },
    "tags": []
   },
   "outputs": [],
   "source": [
    "# search for game\n",
    "game_name = \"Super Mario 64\"\n",
    "\n",
    "game_search = api.search(srcomapi.datatypes.Game, {\"name\": game_name})\n",
    "game = game_search[0]"
   ]
  },
  {
   "cell_type": "markdown",
   "id": "8aea3fa3",
   "metadata": {
    "papermill": {
     "duration": 0.007484,
     "end_time": "2024-03-13T17:08:58.180456",
     "exception": false,
     "start_time": "2024-03-13T17:08:58.172972",
     "status": "completed"
    },
    "tags": []
   },
   "source": [
    "For reference, let's see what the game ID is:"
   ]
  },
  {
   "cell_type": "code",
   "execution_count": 6,
   "id": "089d3ce6",
   "metadata": {
    "execution": {
     "iopub.execute_input": "2024-03-13T17:08:58.197865Z",
     "iopub.status.busy": "2024-03-13T17:08:58.197098Z",
     "iopub.status.idle": "2024-03-13T17:08:58.206156Z",
     "shell.execute_reply": "2024-03-13T17:08:58.204313Z"
    },
    "papermill": {
     "duration": 0.020889,
     "end_time": "2024-03-13T17:08:58.208908",
     "exception": false,
     "start_time": "2024-03-13T17:08:58.188019",
     "status": "completed"
    },
    "tags": []
   },
   "outputs": [
    {
     "data": {
      "text/plain": [
       "'o1y9wo6q'"
      ]
     },
     "execution_count": 6,
     "metadata": {},
     "output_type": "execute_result"
    }
   ],
   "source": [
    "game.id"
   ]
  },
  {
   "cell_type": "markdown",
   "id": "7ba1f486",
   "metadata": {
    "papermill": {
     "duration": 0.007065,
     "end_time": "2024-03-13T17:08:58.223794",
     "exception": false,
     "start_time": "2024-03-13T17:08:58.216729",
     "status": "completed"
    },
    "tags": []
   },
   "source": [
    "## Get Game-Specific \"Variables\"\n",
    "\n",
    "To process the game data, we will need to get the variables for Minecraft. To do this, we will use the following `get_variables` function."
   ]
  },
  {
   "cell_type": "code",
   "execution_count": 7,
   "id": "ecf05de0",
   "metadata": {
    "execution": {
     "iopub.execute_input": "2024-03-13T17:08:58.241059Z",
     "iopub.status.busy": "2024-03-13T17:08:58.240672Z",
     "iopub.status.idle": "2024-03-13T17:08:58.356002Z",
     "shell.execute_reply": "2024-03-13T17:08:58.354285Z"
    },
    "papermill": {
     "duration": 0.12705,
     "end_time": "2024-03-13T17:08:58.358385",
     "exception": false,
     "start_time": "2024-03-13T17:08:58.231335",
     "status": "completed"
    },
    "tags": []
   },
   "outputs": [],
   "source": [
    "def get_variables(game):\n",
    "    \n",
    "    variables_response = api.get(f\"games/{game.id}/variables\")\n",
    "    \n",
    "    # variable_id_to_name maps variable ids to the names of the variables\n",
    "    # and is of type {[variable_id]: [name]}\n",
    "    variable_id_to_name = {}\n",
    "    # variable_choice_id_to_name maps variable choice ids to the names of the variable choices\n",
    "    # and is of type { [variable_id]: {[variable_choice_id]: [name]} }\n",
    "    variable_choice_id_to_name = {}\n",
    "    \n",
    "    for variable_obj in variables_response:\n",
    "        variable_id_to_name[variable_obj[\"id\"]] = variable_obj[\"name\"]\n",
    "        var_id = variable_obj[\"id\"]\n",
    "        variable_choice_id_to_name[var_id] = {}\n",
    "        \n",
    "        values_response = variable_obj[\"values\"][\"values\"]\n",
    "        for value_id, value_obj in values_response.items():\n",
    "            variable_choice_id_to_name[var_id][value_id] = value_obj[\"label\"]\n",
    "    \n",
    "    return variable_id_to_name, variable_choice_id_to_name\n",
    "\n",
    "variable_id_to_name_dict, variable_choice_id_to_name_dict = get_variables(game)"
   ]
  },
  {
   "cell_type": "markdown",
   "id": "95b7c154",
   "metadata": {
    "papermill": {
     "duration": 0.007148,
     "end_time": "2024-03-13T17:08:58.373280",
     "exception": false,
     "start_time": "2024-03-13T17:08:58.366132",
     "status": "completed"
    },
    "tags": []
   },
   "source": [
    "For reference, let's see what each of these dictionaries look like:"
   ]
  },
  {
   "cell_type": "code",
   "execution_count": 8,
   "id": "c3319290",
   "metadata": {
    "execution": {
     "iopub.execute_input": "2024-03-13T17:08:58.389979Z",
     "iopub.status.busy": "2024-03-13T17:08:58.389646Z",
     "iopub.status.idle": "2024-03-13T17:08:58.395534Z",
     "shell.execute_reply": "2024-03-13T17:08:58.394173Z"
    },
    "papermill": {
     "duration": 0.017174,
     "end_time": "2024-03-13T17:08:58.397938",
     "exception": false,
     "start_time": "2024-03-13T17:08:58.380764",
     "status": "completed"
    },
    "tags": []
   },
   "outputs": [
    {
     "data": {
      "text/plain": [
       "{'e8m7em86': 'Platform', '2lgy07lp': 'Codes', 'kn04ewol': 'Verified'}"
      ]
     },
     "execution_count": 8,
     "metadata": {},
     "output_type": "execute_result"
    }
   ],
   "source": [
    "variable_id_to_name_dict"
   ]
  },
  {
   "cell_type": "code",
   "execution_count": 9,
   "id": "38b7f139",
   "metadata": {
    "execution": {
     "iopub.execute_input": "2024-03-13T17:08:58.415093Z",
     "iopub.status.busy": "2024-03-13T17:08:58.414765Z",
     "iopub.status.idle": "2024-03-13T17:08:58.420139Z",
     "shell.execute_reply": "2024-03-13T17:08:58.419305Z"
    },
    "papermill": {
     "duration": 0.016124,
     "end_time": "2024-03-13T17:08:58.421931",
     "exception": false,
     "start_time": "2024-03-13T17:08:58.405807",
     "status": "completed"
    },
    "tags": []
   },
   "outputs": [
    {
     "data": {
      "text/plain": [
       "{'e8m7em86': {'9qj7z0oq': 'N64', 'jq6540ol': 'VC', '5lmoxk01': 'EMU'},\n",
       " '2lgy07lp': {'5lmoovm1': 'No', 'jq655njl': 'Yes'},\n",
       " 'kn04ewol': {'5q8e86rq': 'Yes', '4qyxop3l': 'No'}}"
      ]
     },
     "execution_count": 9,
     "metadata": {},
     "output_type": "execute_result"
    }
   ],
   "source": [
    "variable_choice_id_to_name_dict"
   ]
  },
  {
   "cell_type": "markdown",
   "id": "a9bb5a10",
   "metadata": {
    "papermill": {
     "duration": 0.007255,
     "end_time": "2024-03-13T17:08:58.436941",
     "exception": false,
     "start_time": "2024-03-13T17:08:58.429686",
     "status": "completed"
    },
    "tags": []
   },
   "source": [
    "## Get Raw Data\n",
    "\n",
    "We now get the raw data from the API and store them in a dictionary:"
   ]
  },
  {
   "cell_type": "code",
   "execution_count": 10,
   "id": "c5b0718e",
   "metadata": {
    "execution": {
     "iopub.execute_input": "2024-03-13T17:08:58.454400Z",
     "iopub.status.busy": "2024-03-13T17:08:58.454044Z",
     "iopub.status.idle": "2024-03-13T17:09:27.706324Z",
     "shell.execute_reply": "2024-03-13T17:09:27.704700Z"
    },
    "papermill": {
     "duration": 29.263821,
     "end_time": "2024-03-13T17:09:27.708407",
     "exception": false,
     "start_time": "2024-03-13T17:08:58.444586",
     "status": "completed"
    },
    "tags": []
   },
   "outputs": [
    {
     "data": {
      "application/vnd.jupyter.widget-view+json": {
       "model_id": "67ab56f7cc184420bf57023c3b58db69",
       "version_major": 2,
       "version_minor": 0
      },
      "text/plain": [
       "  0%|          | 0/5 [00:00<?, ?it/s]"
      ]
     },
     "metadata": {},
     "output_type": "display_data"
    }
   ],
   "source": [
    "# only consider star categories\n",
    "categories = [\"0 Star\", \"1 Star\", \"16 Star\", \"70 Star\", \"120 Star\"]\n",
    "\n",
    "# we need a limit, as the API might return a 504 error\n",
    "# if there is too much data (> 1k rows)\n",
    "# also for some reason the python API library kind of self-destructs for this function\n",
    "# so we just use the API directly instead :)\n",
    "def get_category_data(game, category, limit=500, level=None):\n",
    "    if level is None:\n",
    "        link = f\"{SPEEDRUN_API_LINK}/leaderboards/{game.id}/category/{category.id}?embed=variables,players&top={limit}\"\n",
    "    else:\n",
    "        link = f\"{SPEEDRUN_API_LINK}/leaderboards/{game.id}/level/{level.id}/{category.id}?embed=variables,players&top={limit}\"\n",
    "    response = requests.get(link)\n",
    "    result = response.json()[\"data\"]\n",
    "    return result\n",
    "    \n",
    "# {[category name]: [list of runs]}\n",
    "raw_runs = {}\n",
    "pbar = tqdm([category for category in game.categories if category.name in categories])\n",
    "\n",
    "for category in pbar:\n",
    "    category_name = category.name\n",
    "    pbar.set_postfix(category=category_name)\n",
    "    \n",
    "    if not category.name in raw_runs:\n",
    "        raw_runs[category.name] = {}\n",
    "\n",
    "    if category.type == 'per-level':\n",
    "        for level in game.levels:\n",
    "            raw_runs[category.name][level.name] = get_category_data(game, category, level)\n",
    "    else:\n",
    "        raw_runs[category.name] = get_category_data(game, category)"
   ]
  },
  {
   "cell_type": "markdown",
   "id": "45f0cba3",
   "metadata": {
    "papermill": {
     "duration": 0.008353,
     "end_time": "2024-03-13T17:09:27.726182",
     "exception": false,
     "start_time": "2024-03-13T17:09:27.717829",
     "status": "completed"
    },
    "tags": []
   },
   "source": [
    "## Helper Functions to Process Data\n",
    "\n",
    "We now define some helper functions we will use to process the raw runs data."
   ]
  },
  {
   "cell_type": "code",
   "execution_count": 11,
   "id": "bea1d2e8",
   "metadata": {
    "execution": {
     "iopub.execute_input": "2024-03-13T17:09:27.744653Z",
     "iopub.status.busy": "2024-03-13T17:09:27.744242Z",
     "iopub.status.idle": "2024-03-13T17:09:27.757868Z",
     "shell.execute_reply": "2024-03-13T17:09:27.755960Z"
    },
    "papermill": {
     "duration": 0.026193,
     "end_time": "2024-03-13T17:09:27.760880",
     "exception": false,
     "start_time": "2024-03-13T17:09:27.734687",
     "status": "completed"
    },
    "tags": []
   },
   "outputs": [],
   "source": [
    "# process run\n",
    "def process_run(run, player_data):\n",
    "    verified_key = \"kn04ewol\"\n",
    "    platform_key = \"e8m7em86\"\n",
    "    \n",
    "    # get player data\n",
    "    player_id = run[\"run\"][\"players\"][0].get(\"id\", None)\n",
    "    if player_id is not None:\n",
    "        raw_player_data = player_data[player_id]\n",
    "        player_name = raw_player_data[\"names\"][\"international\"]\n",
    "        location = raw_player_data[\"location\"]\n",
    "        if location is not None:\n",
    "            location = location[\"country\"][\"names\"][\"international\"]\n",
    "        player_country = location\n",
    "    else:\n",
    "        player_name = player_country = None\n",
    "    \n",
    "    result = {\n",
    "        # run id\n",
    "        \"id\": run[\"run\"][\"id\"],\n",
    "        # leaderboard place\n",
    "        \"place\": run[\"place\"],\n",
    "        # link to speedrun\n",
    "        \"speedrun_link\": run[\"run\"][\"weblink\"],\n",
    "        # submitted date\n",
    "        \"submitted_date\": run[\"run\"][\"submitted\"],\n",
    "        # primary time (seconds)\n",
    "        \"primary_time_seconds\": run[\"run\"][\"times\"][\"primary_t\"],\n",
    "        # real time (seconds)\n",
    "        \"real_time_seconds\": run[\"run\"][\"times\"][\"realtime_t\"],\n",
    "        # player id\n",
    "        \"player_id\": player_id,\n",
    "        # player name\n",
    "        \"player_name\": player_name,\n",
    "        # player country\n",
    "        \"player_country\": player_country,\n",
    "        # platform\n",
    "        \"platform\": variable_choice_id_to_name_dict[platform_key][run[\"run\"][\"values\"][platform_key]],\n",
    "        # verified\n",
    "        \"verified\": variable_choice_id_to_name_dict[verified_key][run[\"run\"][\"values\"][verified_key]],\n",
    "    }\n",
    "    return result\n",
    "\n",
    "# raw_runs_data = {[category]: [runs]}\n",
    "def process_raw_runs_data(raw_runs_data):\n",
    "    # cleaned_runs = {[category]: [runs]}\n",
    "    cleaned_runs_data = {}\n",
    "    \n",
    "    for category, category_obj in raw_runs_data.items():\n",
    "        cleaned_runs = []\n",
    "        raw_runs = category_obj[\"runs\"]\n",
    "        \n",
    "        player_data_list = category_obj[\"players\"][\"data\"]\n",
    "        player_data = {data.get(\"id\"): data for data in player_data_list}\n",
    "        \n",
    "        print(f\"Processing raw runs data for category {category}\")\n",
    "        pbar = tqdm(raw_runs)\n",
    "        for raw_run in pbar:\n",
    "            try:\n",
    "                cleaned_run = process_run(raw_run, player_data)\n",
    "                cleaned_runs.append(cleaned_run)\n",
    "            except Exception as e:\n",
    "                print(\"could not process run:\")\n",
    "                print(raw_run)\n",
    "                print('error:')\n",
    "                print(e)\n",
    "        cleaned_runs_data[category] = cleaned_runs\n",
    "    return cleaned_runs_data"
   ]
  },
  {
   "cell_type": "markdown",
   "id": "107af801",
   "metadata": {
    "papermill": {
     "duration": 0.007598,
     "end_time": "2024-03-13T17:09:27.776648",
     "exception": false,
     "start_time": "2024-03-13T17:09:27.769050",
     "status": "completed"
    },
    "tags": []
   },
   "source": [
    "## Process Raw Runs Data\n",
    "\n",
    "We can now clean the raw runs data, so that we will be able to process it into a CSV."
   ]
  },
  {
   "cell_type": "code",
   "execution_count": 12,
   "id": "3e0929e8",
   "metadata": {
    "execution": {
     "iopub.execute_input": "2024-03-13T17:09:27.795365Z",
     "iopub.status.busy": "2024-03-13T17:09:27.794536Z",
     "iopub.status.idle": "2024-03-13T17:09:27.895271Z",
     "shell.execute_reply": "2024-03-13T17:09:27.893816Z"
    },
    "papermill": {
     "duration": 0.117371,
     "end_time": "2024-03-13T17:09:27.901963",
     "exception": false,
     "start_time": "2024-03-13T17:09:27.784592",
     "status": "completed"
    },
    "tags": []
   },
   "outputs": [
    {
     "name": "stdout",
     "output_type": "stream",
     "text": [
      "Processing raw runs data for category 120 Star\n"
     ]
    },
    {
     "data": {
      "application/vnd.jupyter.widget-view+json": {
       "model_id": "049611b52a2f4b34b2dc6dc0f3ca68f5",
       "version_major": 2,
       "version_minor": 0
      },
      "text/plain": [
       "  0%|          | 0/500 [00:00<?, ?it/s]"
      ]
     },
     "metadata": {},
     "output_type": "display_data"
    },
    {
     "name": "stdout",
     "output_type": "stream",
     "text": [
      "Processing raw runs data for category 70 Star\n"
     ]
    },
    {
     "data": {
      "application/vnd.jupyter.widget-view+json": {
       "model_id": "3af20479252248738ab9fc47dbea4287",
       "version_major": 2,
       "version_minor": 0
      },
      "text/plain": [
       "  0%|          | 0/501 [00:00<?, ?it/s]"
      ]
     },
     "metadata": {},
     "output_type": "display_data"
    },
    {
     "name": "stdout",
     "output_type": "stream",
     "text": [
      "Processing raw runs data for category 16 Star\n"
     ]
    },
    {
     "data": {
      "application/vnd.jupyter.widget-view+json": {
       "model_id": "ced4ef05acc440c5903746975bdabd7e",
       "version_major": 2,
       "version_minor": 0
      },
      "text/plain": [
       "  0%|          | 0/504 [00:00<?, ?it/s]"
      ]
     },
     "metadata": {},
     "output_type": "display_data"
    },
    {
     "name": "stdout",
     "output_type": "stream",
     "text": [
      "Processing raw runs data for category 1 Star\n"
     ]
    },
    {
     "data": {
      "application/vnd.jupyter.widget-view+json": {
       "model_id": "aec64f02cb064d3caa63e0f2e61aefb0",
       "version_major": 2,
       "version_minor": 0
      },
      "text/plain": [
       "  0%|          | 0/501 [00:00<?, ?it/s]"
      ]
     },
     "metadata": {},
     "output_type": "display_data"
    },
    {
     "name": "stdout",
     "output_type": "stream",
     "text": [
      "Processing raw runs data for category 0 Star\n"
     ]
    },
    {
     "data": {
      "application/vnd.jupyter.widget-view+json": {
       "model_id": "c926548e813643578856053df87fc8fc",
       "version_major": 2,
       "version_minor": 0
      },
      "text/plain": [
       "  0%|          | 0/265 [00:00<?, ?it/s]"
      ]
     },
     "metadata": {},
     "output_type": "display_data"
    }
   ],
   "source": [
    "cleaned_runs_data = process_raw_runs_data(raw_runs)"
   ]
  },
  {
   "cell_type": "markdown",
   "id": "6dae2040",
   "metadata": {
    "papermill": {
     "duration": 0.008612,
     "end_time": "2024-03-13T17:09:27.919581",
     "exception": false,
     "start_time": "2024-03-13T17:09:27.910969",
     "status": "completed"
    },
    "tags": []
   },
   "source": [
    "# Convert Data into DataFrames"
   ]
  },
  {
   "cell_type": "markdown",
   "id": "4de88c3a",
   "metadata": {
    "papermill": {
     "duration": 0.008462,
     "end_time": "2024-03-13T17:09:27.936967",
     "exception": false,
     "start_time": "2024-03-13T17:09:27.928505",
     "status": "completed"
    },
    "tags": []
   },
   "source": [
    "We can now convert our cleaned runs data into data-frames for exporting/upload."
   ]
  },
  {
   "cell_type": "code",
   "execution_count": 13,
   "id": "40a2a777",
   "metadata": {
    "execution": {
     "iopub.execute_input": "2024-03-13T17:09:27.956944Z",
     "iopub.status.busy": "2024-03-13T17:09:27.956600Z",
     "iopub.status.idle": "2024-03-13T17:09:27.980099Z",
     "shell.execute_reply": "2024-03-13T17:09:27.978455Z"
    },
    "papermill": {
     "duration": 0.036551,
     "end_time": "2024-03-13T17:09:27.982604",
     "exception": false,
     "start_time": "2024-03-13T17:09:27.946053",
     "status": "completed"
    },
    "tags": []
   },
   "outputs": [],
   "source": [
    "# {category: df}\n",
    "dfs = {}\n",
    "\n",
    "for category, cleaned_runs in cleaned_runs_data.items():\n",
    "    dfs[category] = pd.DataFrame.from_records(cleaned_runs)"
   ]
  },
  {
   "cell_type": "markdown",
   "id": "66b46d38",
   "metadata": {
    "papermill": {
     "duration": 0.008221,
     "end_time": "2024-03-13T17:09:27.999619",
     "exception": false,
     "start_time": "2024-03-13T17:09:27.991398",
     "status": "completed"
    },
    "tags": []
   },
   "source": [
    "We can see how these look like:"
   ]
  },
  {
   "cell_type": "code",
   "execution_count": 14,
   "id": "8608d92a",
   "metadata": {
    "execution": {
     "iopub.execute_input": "2024-03-13T17:09:28.018179Z",
     "iopub.status.busy": "2024-03-13T17:09:28.017835Z",
     "iopub.status.idle": "2024-03-13T17:09:28.043571Z",
     "shell.execute_reply": "2024-03-13T17:09:28.042248Z"
    },
    "papermill": {
     "duration": 0.037367,
     "end_time": "2024-03-13T17:09:28.045751",
     "exception": false,
     "start_time": "2024-03-13T17:09:28.008384",
     "status": "completed"
    },
    "tags": []
   },
   "outputs": [
    {
     "data": {
      "text/html": [
       "<div>\n",
       "<style scoped>\n",
       "    .dataframe tbody tr th:only-of-type {\n",
       "        vertical-align: middle;\n",
       "    }\n",
       "\n",
       "    .dataframe tbody tr th {\n",
       "        vertical-align: top;\n",
       "    }\n",
       "\n",
       "    .dataframe thead th {\n",
       "        text-align: right;\n",
       "    }\n",
       "</style>\n",
       "<table border=\"1\" class=\"dataframe\">\n",
       "  <thead>\n",
       "    <tr style=\"text-align: right;\">\n",
       "      <th></th>\n",
       "      <th>id</th>\n",
       "      <th>place</th>\n",
       "      <th>speedrun_link</th>\n",
       "      <th>submitted_date</th>\n",
       "      <th>primary_time_seconds</th>\n",
       "      <th>real_time_seconds</th>\n",
       "      <th>player_id</th>\n",
       "      <th>player_name</th>\n",
       "      <th>player_country</th>\n",
       "      <th>platform</th>\n",
       "      <th>verified</th>\n",
       "    </tr>\n",
       "  </thead>\n",
       "  <tbody>\n",
       "    <tr>\n",
       "      <th>0</th>\n",
       "      <td>znev0n9z</td>\n",
       "      <td>1</td>\n",
       "      <td>https://www.speedrun.com/sm64/run/znev0n9z</td>\n",
       "      <td>2023-12-09T14:06:38Z</td>\n",
       "      <td>2788</td>\n",
       "      <td>2788</td>\n",
       "      <td>zxzk1q9x</td>\n",
       "      <td>ikori_o</td>\n",
       "      <td>Japan</td>\n",
       "      <td>N64</td>\n",
       "      <td>No</td>\n",
       "    </tr>\n",
       "    <tr>\n",
       "      <th>1</th>\n",
       "      <td>mel4g4qz</td>\n",
       "      <td>2</td>\n",
       "      <td>https://www.speedrun.com/sm64/run/mel4g4qz</td>\n",
       "      <td>2023-06-17T20:22:08Z</td>\n",
       "      <td>2801</td>\n",
       "      <td>2801</td>\n",
       "      <td>jn32931x</td>\n",
       "      <td>Suigi</td>\n",
       "      <td>Canada</td>\n",
       "      <td>N64</td>\n",
       "      <td>Yes</td>\n",
       "    </tr>\n",
       "    <tr>\n",
       "      <th>2</th>\n",
       "      <td>zxwe0rkm</td>\n",
       "      <td>3</td>\n",
       "      <td>https://www.speedrun.com/sm64/run/zxwe0rkm</td>\n",
       "      <td>2024-02-11T05:30:58Z</td>\n",
       "      <td>2802</td>\n",
       "      <td>2802</td>\n",
       "      <td>1xy9p1vj</td>\n",
       "      <td>taihou</td>\n",
       "      <td>Japan</td>\n",
       "      <td>EMU</td>\n",
       "      <td>Yes</td>\n",
       "    </tr>\n",
       "    <tr>\n",
       "      <th>3</th>\n",
       "      <td>mk014j1z</td>\n",
       "      <td>4</td>\n",
       "      <td>https://www.speedrun.com/sm64/run/mk014j1z</td>\n",
       "      <td>2023-07-24T22:28:07Z</td>\n",
       "      <td>2810</td>\n",
       "      <td>2810</td>\n",
       "      <td>x353dr7j</td>\n",
       "      <td>Finnii602</td>\n",
       "      <td>Germany</td>\n",
       "      <td>VC</td>\n",
       "      <td>Yes</td>\n",
       "    </tr>\n",
       "    <tr>\n",
       "      <th>4</th>\n",
       "      <td>yj211d3m</td>\n",
       "      <td>5</td>\n",
       "      <td>https://www.speedrun.com/sm64/run/yj211d3m</td>\n",
       "      <td>2023-06-03T16:03:45Z</td>\n",
       "      <td>2814</td>\n",
       "      <td>2814</td>\n",
       "      <td>8wkzer38</td>\n",
       "      <td>Parsee02</td>\n",
       "      <td>Japan</td>\n",
       "      <td>N64</td>\n",
       "      <td>Yes</td>\n",
       "    </tr>\n",
       "  </tbody>\n",
       "</table>\n",
       "</div>"
      ],
      "text/plain": [
       "         id  place                               speedrun_link  \\\n",
       "0  znev0n9z      1  https://www.speedrun.com/sm64/run/znev0n9z   \n",
       "1  mel4g4qz      2  https://www.speedrun.com/sm64/run/mel4g4qz   \n",
       "2  zxwe0rkm      3  https://www.speedrun.com/sm64/run/zxwe0rkm   \n",
       "3  mk014j1z      4  https://www.speedrun.com/sm64/run/mk014j1z   \n",
       "4  yj211d3m      5  https://www.speedrun.com/sm64/run/yj211d3m   \n",
       "\n",
       "         submitted_date  primary_time_seconds  real_time_seconds player_id  \\\n",
       "0  2023-12-09T14:06:38Z                  2788               2788  zxzk1q9x   \n",
       "1  2023-06-17T20:22:08Z                  2801               2801  jn32931x   \n",
       "2  2024-02-11T05:30:58Z                  2802               2802  1xy9p1vj   \n",
       "3  2023-07-24T22:28:07Z                  2810               2810  x353dr7j   \n",
       "4  2023-06-03T16:03:45Z                  2814               2814  8wkzer38   \n",
       "\n",
       "  player_name player_country platform verified  \n",
       "0     ikori_o          Japan      N64       No  \n",
       "1       Suigi         Canada      N64      Yes  \n",
       "2      taihou          Japan      EMU      Yes  \n",
       "3   Finnii602        Germany       VC      Yes  \n",
       "4    Parsee02          Japan      N64      Yes  "
      ]
     },
     "execution_count": 14,
     "metadata": {},
     "output_type": "execute_result"
    }
   ],
   "source": [
    "dfs[\"70 Star\"].head()"
   ]
  },
  {
   "cell_type": "markdown",
   "id": "3d56507f",
   "metadata": {
    "papermill": {
     "duration": 0.008812,
     "end_time": "2024-03-13T17:09:28.063830",
     "exception": false,
     "start_time": "2024-03-13T17:09:28.055018",
     "status": "completed"
    },
    "tags": []
   },
   "source": [
    "# Save DataFrames to Files\n",
    "\n",
    "We can then save our dataframes to files."
   ]
  },
  {
   "cell_type": "code",
   "execution_count": 15,
   "id": "1bf5035f",
   "metadata": {
    "execution": {
     "iopub.execute_input": "2024-03-13T17:09:28.083749Z",
     "iopub.status.busy": "2024-03-13T17:09:28.083376Z",
     "iopub.status.idle": "2024-03-13T17:09:28.110978Z",
     "shell.execute_reply": "2024-03-13T17:09:28.109713Z"
    },
    "papermill": {
     "duration": 0.040712,
     "end_time": "2024-03-13T17:09:28.113618",
     "exception": false,
     "start_time": "2024-03-13T17:09:28.072906",
     "status": "completed"
    },
    "tags": []
   },
   "outputs": [],
   "source": [
    "for category, df in dfs.items():\n",
    "    filename = f\"/kaggle/working/data_{category}.csv\"\n",
    "    df.to_csv(filename)"
   ]
  },
  {
   "cell_type": "markdown",
   "id": "d7a259b8",
   "metadata": {
    "papermill": {
     "duration": 0.008575,
     "end_time": "2024-03-13T17:09:28.131823",
     "exception": false,
     "start_time": "2024-03-13T17:09:28.123248",
     "status": "completed"
    },
    "tags": []
   },
   "source": [
    "# Re-Upload Files to Kaggle"
   ]
  },
  {
   "cell_type": "markdown",
   "id": "41a1ff24",
   "metadata": {
    "papermill": {
     "duration": 0.00839,
     "end_time": "2024-03-13T17:09:28.149853",
     "exception": false,
     "start_time": "2024-03-13T17:09:28.141463",
     "status": "completed"
    },
    "tags": []
   },
   "source": [
    "## Define Metadata"
   ]
  },
  {
   "cell_type": "code",
   "execution_count": 16,
   "id": "13b4940b",
   "metadata": {
    "execution": {
     "iopub.execute_input": "2024-03-13T17:09:28.169784Z",
     "iopub.status.busy": "2024-03-13T17:09:28.169391Z",
     "iopub.status.idle": "2024-03-13T17:09:28.174085Z",
     "shell.execute_reply": "2024-03-13T17:09:28.172939Z"
    },
    "papermill": {
     "duration": 0.01723,
     "end_time": "2024-03-13T17:09:28.176148",
     "exception": false,
     "start_time": "2024-03-13T17:09:28.158918",
     "status": "completed"
    },
    "tags": []
   },
   "outputs": [],
   "source": [
    "metadata = {\n",
    "    \"id\": \"mcpenguin/super-mario-64-speedruns\",\n",
    "    \"title\": \"New Update\"\n",
    "}"
   ]
  },
  {
   "cell_type": "code",
   "execution_count": 17,
   "id": "e4803adf",
   "metadata": {
    "execution": {
     "iopub.execute_input": "2024-03-13T17:09:28.195658Z",
     "iopub.status.busy": "2024-03-13T17:09:28.195272Z",
     "iopub.status.idle": "2024-03-13T17:09:28.200502Z",
     "shell.execute_reply": "2024-03-13T17:09:28.199772Z"
    },
    "papermill": {
     "duration": 0.016951,
     "end_time": "2024-03-13T17:09:28.202114",
     "exception": false,
     "start_time": "2024-03-13T17:09:28.185163",
     "status": "completed"
    },
    "tags": []
   },
   "outputs": [],
   "source": [
    "with open('/kaggle/working/dataset-metadata.json', 'w') as json_fid:\n",
    "    json_fid.write(json.dumps(metadata))"
   ]
  },
  {
   "cell_type": "markdown",
   "id": "1ec1272e",
   "metadata": {
    "papermill": {
     "duration": 0.008482,
     "end_time": "2024-03-13T17:09:28.219728",
     "exception": false,
     "start_time": "2024-03-13T17:09:28.211246",
     "status": "completed"
    },
    "tags": []
   },
   "source": [
    "## Push New Metadata"
   ]
  },
  {
   "cell_type": "code",
   "execution_count": 18,
   "id": "ae0ce292",
   "metadata": {
    "execution": {
     "iopub.execute_input": "2024-03-13T17:09:28.239771Z",
     "iopub.status.busy": "2024-03-13T17:09:28.238724Z",
     "iopub.status.idle": "2024-03-13T17:09:29.401357Z",
     "shell.execute_reply": "2024-03-13T17:09:29.399739Z"
    },
    "papermill": {
     "duration": 1.17538,
     "end_time": "2024-03-13T17:09:29.404041",
     "exception": false,
     "start_time": "2024-03-13T17:09:28.228661",
     "status": "completed"
    },
    "tags": []
   },
   "outputs": [
    {
     "name": "stdout",
     "output_type": "stream",
     "text": [
      "Downloading super-mario-64-speedruns.zip to /kaggle/working\r\n",
      "\r",
      "  0%|                                               | 0.00/96.6k [00:00<?, ?B/s]\r\n",
      "\r",
      "100%|██████████████████████████████████████| 96.6k/96.6k [00:00<00:00, 81.5MB/s]\r\n"
     ]
    }
   ],
   "source": [
    "!kaggle datasets download mcpenguin/super-mario-64-speedruns"
   ]
  },
  {
   "cell_type": "code",
   "execution_count": 19,
   "id": "f95ab68b",
   "metadata": {
    "execution": {
     "iopub.execute_input": "2024-03-13T17:09:29.424233Z",
     "iopub.status.busy": "2024-03-13T17:09:29.423881Z",
     "iopub.status.idle": "2024-03-13T17:09:29.429127Z",
     "shell.execute_reply": "2024-03-13T17:09:29.428068Z"
    },
    "papermill": {
     "duration": 0.018109,
     "end_time": "2024-03-13T17:09:29.431653",
     "exception": false,
     "start_time": "2024-03-13T17:09:29.413544",
     "status": "completed"
    },
    "tags": []
   },
   "outputs": [],
   "source": [
    "os.remove(\"/kaggle/working/super-mario-64-speedruns.zip\")"
   ]
  },
  {
   "cell_type": "code",
   "execution_count": null,
   "id": "a58efc4a",
   "metadata": {
    "execution": {
     "iopub.execute_input": "2023-09-05T15:32:05.177365Z",
     "iopub.status.busy": "2023-09-05T15:32:05.176914Z",
     "iopub.status.idle": "2023-09-05T15:32:20.437485Z",
     "shell.execute_reply": "2023-09-05T15:32:20.436308Z",
     "shell.execute_reply.started": "2023-09-05T15:32:05.177334Z"
    },
    "papermill": {
     "duration": null,
     "end_time": null,
     "exception": false,
     "start_time": "2024-03-13T17:09:29.441202",
     "status": "running"
    },
    "tags": []
   },
   "outputs": [],
   "source": [
    "!kaggle datasets version -p /kaggle/working -m \"Updated data\""
   ]
  }
 ],
 "metadata": {
  "kernelspec": {
   "display_name": "Python 3",
   "language": "python",
   "name": "python3"
  },
  "language_info": {
   "codemirror_mode": {
    "name": "ipython",
    "version": 3
   },
   "file_extension": ".py",
   "mimetype": "text/x-python",
   "name": "python",
   "nbconvert_exporter": "python",
   "pygments_lexer": "ipython3",
   "version": "3.6.4"
  },
  "papermill": {
   "default_parameters": {},
   "duration": null,
   "end_time": null,
   "environment_variables": {},
   "exception": null,
   "input_path": "__notebook__.ipynb",
   "output_path": "__notebook__.ipynb",
   "parameters": {},
   "start_time": "2024-03-13T17:08:33.928281",
   "version": "2.4.0"
  }
 },
 "nbformat": 4,
 "nbformat_minor": 5
}